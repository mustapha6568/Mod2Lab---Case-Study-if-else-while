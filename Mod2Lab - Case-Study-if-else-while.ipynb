{
 "cells": [
  {
   "cell_type": "code",
   "execution_count": 1,
   "id": "868d6602-5402-445d-b36c-7c6dce45dcb0",
   "metadata": {},
   "outputs": [
    {
     "name": "stdin",
     "output_type": "stream",
     "text": [
      "Enter student's Last name:  Elbahri\n",
      "Enter student's First name:  Mustapha\n",
      "Enter student’s GPA:  3.27\n"
     ]
    },
    {
     "name": "stdout",
     "output_type": "stream",
     "text": [
      "MustaphaElbahrihas made the Dean's list\n"
     ]
    },
    {
     "name": "stdin",
     "output_type": "stream",
     "text": [
      "Enter student's Last name:  Elbahri2\n",
      "Enter student's First name:  Mustapha2\n",
      "Enter student’s GPA:  2.1\n",
      "Enter student's Last name:  elbahri3\n",
      "Enter student's First name:  Mustapha3\n",
      "Enter student’s GPA:  4\n"
     ]
    },
    {
     "name": "stdout",
     "output_type": "stream",
     "text": [
      "Mustapha3elbahri3has made the Dean’s list\n"
     ]
    },
    {
     "name": "stdin",
     "output_type": "stream",
     "text": [
      "Enter student's Last name:  zzz\n",
      "Enter student's First name:  Mustapha4\n",
      "Enter student’s GPA:  2.0\n",
      "Enter student's Last name:  ZZZ\n"
     ]
    }
   ],
   "source": [
    "lastName = input(\"Enter student's Last name: \")\n",
    "while lastName != 'ZZZ':\n",
    "    firstName = input(\"Enter student's First name: \")\n",
    "    gpa = input('Enter student’s GPA: ')\n",
    "    if float(gpa) > 3.5:\n",
    "        print (firstName + lastName + \"has made the Dean’s list\")\n",
    "    elif float(gpa) >= 3.25:\n",
    "        print (firstName + lastName + \"has made the Dean's list\")\n",
    "    lastName = input(\"Enter student's Last name: \")"
   ]
  },
  {
   "cell_type": "code",
   "execution_count": null,
   "id": "d72d78f0-d87c-466a-9b0a-5ce236f39087",
   "metadata": {},
   "outputs": [],
   "source": []
  }
 ],
 "metadata": {
  "kernelspec": {
   "display_name": "Python 3 (ipykernel)",
   "language": "python",
   "name": "python3"
  },
  "language_info": {
   "codemirror_mode": {
    "name": "ipython",
    "version": 3
   },
   "file_extension": ".py",
   "mimetype": "text/x-python",
   "name": "python",
   "nbconvert_exporter": "python",
   "pygments_lexer": "ipython3",
   "version": "3.12.7"
  }
 },
 "nbformat": 4,
 "nbformat_minor": 5
}
